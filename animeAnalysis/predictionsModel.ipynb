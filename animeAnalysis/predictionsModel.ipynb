{
 "cells": [
  {
   "cell_type": "code",
   "execution_count": 2,
   "metadata": {},
   "outputs": [
    {
     "name": "stderr",
     "output_type": "stream",
     "text": [
      "/opt/miniconda3/lib/python3.9/site-packages/scipy/__init__.py:146: UserWarning: A NumPy version >=1.16.5 and <1.23.0 is required for this version of SciPy (detected version 1.23.1\n",
      "  warnings.warn(f\"A NumPy version >={np_minversion} and <{np_maxversion}\"\n"
     ]
    }
   ],
   "source": [
    "import pandas as pd\n",
    "import numpy as np \n",
    "import tensorflow as tf\n",
    "from tensorflow import keras\n",
    "from tensorflow.keras import layers\n"
   ]
  },
  {
   "cell_type": "code",
   "execution_count": 3,
   "metadata": {},
   "outputs": [],
   "source": [
    "animeDf = pd.read_csv('anime.csv')"
   ]
  },
  {
   "cell_type": "code",
   "execution_count": 4,
   "metadata": {},
   "outputs": [
    {
     "name": "stdout",
     "output_type": "stream",
     "text": [
      "17562\n"
     ]
    }
   ],
   "source": [
    "print(len(animeDf))\n",
    "animeDf.columns\n",
    "columns = ['MAL_ID', 'Name', 'Score', 'Genres', 'English name', 'Japanese name',\n",
    "       'Type', 'Episodes', 'Aired', 'Premiered', 'Producers', 'Licensors',\n",
    "       'Studios', 'Source', 'Duration', 'Rating', 'Ranked', 'Popularity',\n",
    "       'Members', 'Favorites']\n",
    "animeDf = animeDf[columns]"
   ]
  },
  {
   "cell_type": "code",
   "execution_count": 5,
   "metadata": {},
   "outputs": [],
   "source": [
    "def getAnimeName(id):\n",
    "\tname = animeDf[animeDf.MAL_ID == id]['English name'].values[0]\n",
    "\tif name is np.nan or name == \"Unknown\":\n",
    "\t\tname = animeDf[animeDf.MAL_ID == id]['Name'].values[0]\n",
    "\treturn name\n",
    "animeDf['eng_name'] = animeDf.MAL_ID.apply(lambda x :getAnimeName(x) )"
   ]
  },
  {
   "cell_type": "code",
   "execution_count": 49,
   "metadata": {},
   "outputs": [
    {
     "data": {
      "text/html": [
       "<div>\n",
       "<style scoped>\n",
       "    .dataframe tbody tr th:only-of-type {\n",
       "        vertical-align: middle;\n",
       "    }\n",
       "\n",
       "    .dataframe tbody tr th {\n",
       "        vertical-align: top;\n",
       "    }\n",
       "\n",
       "    .dataframe thead th {\n",
       "        text-align: right;\n",
       "    }\n",
       "</style>\n",
       "<table border=\"1\" class=\"dataframe\">\n",
       "  <thead>\n",
       "    <tr style=\"text-align: right;\">\n",
       "      <th></th>\n",
       "      <th>Score</th>\n",
       "      <th>Ranked</th>\n",
       "      <th>Genres</th>\n",
       "      <th>eng_name</th>\n",
       "      <th>Type</th>\n",
       "      <th>Episodes</th>\n",
       "      <th>Source</th>\n",
       "      <th>Studios</th>\n",
       "    </tr>\n",
       "  </thead>\n",
       "  <tbody>\n",
       "    <tr>\n",
       "      <th>0</th>\n",
       "      <td>8.78</td>\n",
       "      <td>28.0</td>\n",
       "      <td>Action, Adventure, Comedy, Drama, Sci-Fi, Space</td>\n",
       "      <td>Cowboy Bebop</td>\n",
       "      <td>TV</td>\n",
       "      <td>26</td>\n",
       "      <td>Original</td>\n",
       "      <td>Sunrise</td>\n",
       "    </tr>\n",
       "    <tr>\n",
       "      <th>1</th>\n",
       "      <td>8.39</td>\n",
       "      <td>159.0</td>\n",
       "      <td>Action, Drama, Mystery, Sci-Fi, Space</td>\n",
       "      <td>Cowboy Bebop:The Movie</td>\n",
       "      <td>Movie</td>\n",
       "      <td>1</td>\n",
       "      <td>Original</td>\n",
       "      <td>Bones</td>\n",
       "    </tr>\n",
       "    <tr>\n",
       "      <th>2</th>\n",
       "      <td>8.24</td>\n",
       "      <td>266.0</td>\n",
       "      <td>Action, Sci-Fi, Adventure, Comedy, Drama, Shounen</td>\n",
       "      <td>Trigun</td>\n",
       "      <td>TV</td>\n",
       "      <td>26</td>\n",
       "      <td>Manga</td>\n",
       "      <td>Madhouse</td>\n",
       "    </tr>\n",
       "    <tr>\n",
       "      <th>3</th>\n",
       "      <td>7.27</td>\n",
       "      <td>2481.0</td>\n",
       "      <td>Action, Mystery, Police, Supernatural, Drama, ...</td>\n",
       "      <td>Witch Hunter Robin</td>\n",
       "      <td>TV</td>\n",
       "      <td>26</td>\n",
       "      <td>Original</td>\n",
       "      <td>Sunrise</td>\n",
       "    </tr>\n",
       "    <tr>\n",
       "      <th>4</th>\n",
       "      <td>6.98</td>\n",
       "      <td>3710.0</td>\n",
       "      <td>Adventure, Fantasy, Shounen, Supernatural</td>\n",
       "      <td>Beet the Vandel Buster</td>\n",
       "      <td>TV</td>\n",
       "      <td>52</td>\n",
       "      <td>Manga</td>\n",
       "      <td>Toei Animation</td>\n",
       "    </tr>\n",
       "    <tr>\n",
       "      <th>...</th>\n",
       "      <td>...</td>\n",
       "      <td>...</td>\n",
       "      <td>...</td>\n",
       "      <td>...</td>\n",
       "      <td>...</td>\n",
       "      <td>...</td>\n",
       "      <td>...</td>\n",
       "      <td>...</td>\n",
       "    </tr>\n",
       "    <tr>\n",
       "      <th>17504</th>\n",
       "      <td>6.59</td>\n",
       "      <td>5461.0</td>\n",
       "      <td>Comedy</td>\n",
       "      <td>Kimetsu Gakuen: Valentine-hen</td>\n",
       "      <td>ONA</td>\n",
       "      <td>4</td>\n",
       "      <td>Original</td>\n",
       "      <td>Unknown</td>\n",
       "    </tr>\n",
       "    <tr>\n",
       "      <th>17505</th>\n",
       "      <td>7.52</td>\n",
       "      <td>1517.0</td>\n",
       "      <td>Music, Romance</td>\n",
       "      <td>Heikousen</td>\n",
       "      <td>Music</td>\n",
       "      <td>1</td>\n",
       "      <td>Original</td>\n",
       "      <td>10Gauge, Studio DURIAN</td>\n",
       "    </tr>\n",
       "    <tr>\n",
       "      <th>17512</th>\n",
       "      <td>6.83</td>\n",
       "      <td>4382.0</td>\n",
       "      <td>Slice of Life, Comedy</td>\n",
       "      <td>Cooking with Valkyries Spring Festival Special</td>\n",
       "      <td>Special</td>\n",
       "      <td>1</td>\n",
       "      <td>Game</td>\n",
       "      <td>Unknown</td>\n",
       "    </tr>\n",
       "    <tr>\n",
       "      <th>17513</th>\n",
       "      <td>4.81</td>\n",
       "      <td>10760.0</td>\n",
       "      <td>Mystery, Psychological, Supernatural, Thriller...</td>\n",
       "      <td>The Promised Neverland Season 2 Episode 5.5</td>\n",
       "      <td>Special</td>\n",
       "      <td>1</td>\n",
       "      <td>Manga</td>\n",
       "      <td>CloverWorks</td>\n",
       "    </tr>\n",
       "    <tr>\n",
       "      <th>17552</th>\n",
       "      <td>6.52</td>\n",
       "      <td>5799.0</td>\n",
       "      <td>Comedy, Sports</td>\n",
       "      <td>SK∞: Crazy Rock Jam</td>\n",
       "      <td>Special</td>\n",
       "      <td>1</td>\n",
       "      <td>Original</td>\n",
       "      <td>Bones</td>\n",
       "    </tr>\n",
       "  </tbody>\n",
       "</table>\n",
       "<p>10995 rows × 8 columns</p>\n",
       "</div>"
      ],
      "text/plain": [
       "       Score   Ranked                                             Genres  \\\n",
       "0       8.78     28.0    Action, Adventure, Comedy, Drama, Sci-Fi, Space   \n",
       "1       8.39    159.0              Action, Drama, Mystery, Sci-Fi, Space   \n",
       "2       8.24    266.0  Action, Sci-Fi, Adventure, Comedy, Drama, Shounen   \n",
       "3       7.27   2481.0  Action, Mystery, Police, Supernatural, Drama, ...   \n",
       "4       6.98   3710.0          Adventure, Fantasy, Shounen, Supernatural   \n",
       "...      ...      ...                                                ...   \n",
       "17504   6.59   5461.0                                             Comedy   \n",
       "17505   7.52   1517.0                                     Music, Romance   \n",
       "17512   6.83   4382.0                              Slice of Life, Comedy   \n",
       "17513   4.81  10760.0  Mystery, Psychological, Supernatural, Thriller...   \n",
       "17552   6.52   5799.0                                     Comedy, Sports   \n",
       "\n",
       "                                             eng_name     Type Episodes  \\\n",
       "0                                        Cowboy Bebop       TV       26   \n",
       "1                              Cowboy Bebop:The Movie    Movie        1   \n",
       "2                                              Trigun       TV       26   \n",
       "3                                  Witch Hunter Robin       TV       26   \n",
       "4                              Beet the Vandel Buster       TV       52   \n",
       "...                                               ...      ...      ...   \n",
       "17504                   Kimetsu Gakuen: Valentine-hen      ONA        4   \n",
       "17505                                       Heikousen    Music        1   \n",
       "17512  Cooking with Valkyries Spring Festival Special  Special        1   \n",
       "17513     The Promised Neverland Season 2 Episode 5.5  Special        1   \n",
       "17552                             SK∞: Crazy Rock Jam  Special        1   \n",
       "\n",
       "         Source                 Studios  \n",
       "0      Original                 Sunrise  \n",
       "1      Original                   Bones  \n",
       "2         Manga                Madhouse  \n",
       "3      Original                 Sunrise  \n",
       "4         Manga          Toei Animation  \n",
       "...         ...                     ...  \n",
       "17504  Original                 Unknown  \n",
       "17505  Original  10Gauge, Studio DURIAN  \n",
       "17512      Game                 Unknown  \n",
       "17513     Manga             CloverWorks  \n",
       "17552  Original                   Bones  \n",
       "\n",
       "[10995 rows x 8 columns]"
      ]
     },
     "execution_count": 49,
     "metadata": {},
     "output_type": "execute_result"
    }
   ],
   "source": [
    "\n",
    "animeDf = animeDf[['Score','Ranked','Genres','eng_name','Type','Episodes','Source','Studios']]\n",
    "animeDf = animeDf[animeDf.Score != 'Unknown']\n",
    "animeDf = animeDf[animeDf.Ranked!= 'Unknown']\n",
    "animeDf = animeDf[animeDf.Episodes != 'Unknown']\n",
    "animeDf"
   ]
  },
  {
   "cell_type": "code",
   "execution_count": 50,
   "metadata": {},
   "outputs": [],
   "source": [
    "animeDf.Score = animeDf.Score.apply(lambda x: float(x))\n",
    "animeDf.Ranked = animeDf.Ranked.apply(lambda x: float(x))\n",
    "animeDf.Episodes = animeDf.Episodes.apply(lambda x: int(x))"
   ]
  },
  {
   "cell_type": "code",
   "execution_count": 51,
   "metadata": {},
   "outputs": [
    {
     "data": {
      "text/html": [
       "<div>\n",
       "<style scoped>\n",
       "    .dataframe tbody tr th:only-of-type {\n",
       "        vertical-align: middle;\n",
       "    }\n",
       "\n",
       "    .dataframe tbody tr th {\n",
       "        vertical-align: top;\n",
       "    }\n",
       "\n",
       "    .dataframe thead th {\n",
       "        text-align: right;\n",
       "    }\n",
       "</style>\n",
       "<table border=\"1\" class=\"dataframe\">\n",
       "  <thead>\n",
       "    <tr style=\"text-align: right;\">\n",
       "      <th></th>\n",
       "      <th>Score</th>\n",
       "      <th>Ranked</th>\n",
       "      <th>Genres</th>\n",
       "      <th>eng_name</th>\n",
       "      <th>Type</th>\n",
       "      <th>Episodes</th>\n",
       "      <th>Source</th>\n",
       "      <th>Studios</th>\n",
       "    </tr>\n",
       "  </thead>\n",
       "  <tbody>\n",
       "    <tr>\n",
       "      <th>13330</th>\n",
       "      <td>7.10</td>\n",
       "      <td>3218.0</td>\n",
       "      <td>Comedy, Romance, School</td>\n",
       "      <td>Kud Wafter</td>\n",
       "      <td>Movie</td>\n",
       "      <td>1</td>\n",
       "      <td>Visual novel</td>\n",
       "      <td>J.C.Staff</td>\n",
       "    </tr>\n",
       "    <tr>\n",
       "      <th>1037</th>\n",
       "      <td>6.54</td>\n",
       "      <td>5691.0</td>\n",
       "      <td>Adventure, Drama, Fantasy, Romance</td>\n",
       "      <td>A Tree of Palme</td>\n",
       "      <td>Movie</td>\n",
       "      <td>1</td>\n",
       "      <td>Unknown</td>\n",
       "      <td>Palm Studio</td>\n",
       "    </tr>\n",
       "    <tr>\n",
       "      <th>15591</th>\n",
       "      <td>5.56</td>\n",
       "      <td>9513.0</td>\n",
       "      <td>Fantasy</td>\n",
       "      <td>Donbei x Kemurikusa</td>\n",
       "      <td>ONA</td>\n",
       "      <td>1</td>\n",
       "      <td>Original</td>\n",
       "      <td>Unknown</td>\n",
       "    </tr>\n",
       "    <tr>\n",
       "      <th>2420</th>\n",
       "      <td>6.97</td>\n",
       "      <td>3733.0</td>\n",
       "      <td>Comedy, Fantasy, Kids, Sci-Fi, Shounen</td>\n",
       "      <td>Doraemon: Doraemon Comes Back</td>\n",
       "      <td>Special</td>\n",
       "      <td>1</td>\n",
       "      <td>Unknown</td>\n",
       "      <td>Unknown</td>\n",
       "    </tr>\n",
       "    <tr>\n",
       "      <th>6173</th>\n",
       "      <td>7.65</td>\n",
       "      <td>1156.0</td>\n",
       "      <td>Action, Historical, Demons, Drama, Fantasy, Josei</td>\n",
       "      <td>Hakuoki ~Demon of the Fleeting Blossom~ A Memo...</td>\n",
       "      <td>OVA</td>\n",
       "      <td>6</td>\n",
       "      <td>Visual novel</td>\n",
       "      <td>Studio Deen</td>\n",
       "    </tr>\n",
       "    <tr>\n",
       "      <th>...</th>\n",
       "      <td>...</td>\n",
       "      <td>...</td>\n",
       "      <td>...</td>\n",
       "      <td>...</td>\n",
       "      <td>...</td>\n",
       "      <td>...</td>\n",
       "      <td>...</td>\n",
       "      <td>...</td>\n",
       "    </tr>\n",
       "    <tr>\n",
       "      <th>886</th>\n",
       "      <td>6.91</td>\n",
       "      <td>3996.0</td>\n",
       "      <td>Comedy, Ecchi, Harem, Romance, School, Shounen</td>\n",
       "      <td>Ichigo 100% Original DVD Animation</td>\n",
       "      <td>OVA</td>\n",
       "      <td>4</td>\n",
       "      <td>Manga</td>\n",
       "      <td>Madhouse</td>\n",
       "    </tr>\n",
       "    <tr>\n",
       "      <th>12702</th>\n",
       "      <td>5.45</td>\n",
       "      <td>9810.0</td>\n",
       "      <td>Action</td>\n",
       "      <td>Kotowa Jiten: Hetana Teppou mo Kazu Ucha Ataru!</td>\n",
       "      <td>Special</td>\n",
       "      <td>1</td>\n",
       "      <td>Original</td>\n",
       "      <td>Unknown</td>\n",
       "    </tr>\n",
       "    <tr>\n",
       "      <th>6720</th>\n",
       "      <td>6.28</td>\n",
       "      <td>7011.0</td>\n",
       "      <td>Adventure, Fantasy, Kids</td>\n",
       "      <td>Treasure Hunting</td>\n",
       "      <td>Movie</td>\n",
       "      <td>1</td>\n",
       "      <td>Picture book</td>\n",
       "      <td>Studio Ghibli</td>\n",
       "    </tr>\n",
       "    <tr>\n",
       "      <th>4644</th>\n",
       "      <td>6.88</td>\n",
       "      <td>4121.0</td>\n",
       "      <td>Comedy, Sci-Fi</td>\n",
       "      <td>It's a Rumic World: 50th Anniversary Weekly★Sh...</td>\n",
       "      <td>Special</td>\n",
       "      <td>1</td>\n",
       "      <td>Unknown</td>\n",
       "      <td>Unknown</td>\n",
       "    </tr>\n",
       "    <tr>\n",
       "      <th>14312</th>\n",
       "      <td>8.19</td>\n",
       "      <td>317.0</td>\n",
       "      <td>Action, Adventure, Demons, Historical, Samurai...</td>\n",
       "      <td>Dororo</td>\n",
       "      <td>TV</td>\n",
       "      <td>24</td>\n",
       "      <td>Manga</td>\n",
       "      <td>Tezuka Productions, MAPPA</td>\n",
       "    </tr>\n",
       "  </tbody>\n",
       "</table>\n",
       "<p>8796 rows × 8 columns</p>\n",
       "</div>"
      ],
      "text/plain": [
       "       Score  Ranked                                             Genres  \\\n",
       "13330   7.10  3218.0                            Comedy, Romance, School   \n",
       "1037    6.54  5691.0                 Adventure, Drama, Fantasy, Romance   \n",
       "15591   5.56  9513.0                                            Fantasy   \n",
       "2420    6.97  3733.0             Comedy, Fantasy, Kids, Sci-Fi, Shounen   \n",
       "6173    7.65  1156.0  Action, Historical, Demons, Drama, Fantasy, Josei   \n",
       "...      ...     ...                                                ...   \n",
       "886     6.91  3996.0     Comedy, Ecchi, Harem, Romance, School, Shounen   \n",
       "12702   5.45  9810.0                                             Action   \n",
       "6720    6.28  7011.0                           Adventure, Fantasy, Kids   \n",
       "4644    6.88  4121.0                                     Comedy, Sci-Fi   \n",
       "14312   8.19   317.0  Action, Adventure, Demons, Historical, Samurai...   \n",
       "\n",
       "                                                eng_name     Type  Episodes  \\\n",
       "13330                                         Kud Wafter    Movie         1   \n",
       "1037                                     A Tree of Palme    Movie         1   \n",
       "15591                                Donbei x Kemurikusa      ONA         1   \n",
       "2420                       Doraemon: Doraemon Comes Back  Special         1   \n",
       "6173   Hakuoki ~Demon of the Fleeting Blossom~ A Memo...      OVA         6   \n",
       "...                                                  ...      ...       ...   \n",
       "886                   Ichigo 100% Original DVD Animation      OVA         4   \n",
       "12702    Kotowa Jiten: Hetana Teppou mo Kazu Ucha Ataru!  Special         1   \n",
       "6720                                    Treasure Hunting    Movie         1   \n",
       "4644   It's a Rumic World: 50th Anniversary Weekly★Sh...  Special         1   \n",
       "14312                                             Dororo       TV        24   \n",
       "\n",
       "             Source                    Studios  \n",
       "13330  Visual novel                  J.C.Staff  \n",
       "1037        Unknown                Palm Studio  \n",
       "15591      Original                    Unknown  \n",
       "2420        Unknown                    Unknown  \n",
       "6173   Visual novel                Studio Deen  \n",
       "...             ...                        ...  \n",
       "886           Manga                   Madhouse  \n",
       "12702      Original                    Unknown  \n",
       "6720   Picture book              Studio Ghibli  \n",
       "4644        Unknown                    Unknown  \n",
       "14312         Manga  Tezuka Productions, MAPPA  \n",
       "\n",
       "[8796 rows x 8 columns]"
      ]
     },
     "execution_count": 51,
     "metadata": {},
     "output_type": "execute_result"
    }
   ],
   "source": [
    "train, val, test = np.split(animeDf.sample(frac=1), [int(0.8*len(animeDf)), int(0.9*len(animeDf))])\n",
    "train"
   ]
  },
  {
   "cell_type": "code",
   "execution_count": 99,
   "metadata": {},
   "outputs": [],
   "source": [
    "l = animeDf.Genres.to_numpy()\n",
    "l= [x.split(',') for x in l]\n",
    "uniqueGenres = []\n",
    "for x in l:\n",
    "\tfor y in x:\n",
    "\t\ty.strip()\n",
    "\t\tif y not in uniqueGenres:\n",
    "\t\t\tuniqueGenres.append(y)\n",
    "uniqueGenres = np.array(uniqueGenres)\n",
    "uniqueGenres = [x.strip() for x in uniqueGenres]\n",
    "uniqueGenres = np.unique(uniqueGenres)"
   ]
  },
  {
   "cell_type": "code",
   "execution_count": 95,
   "metadata": {},
   "outputs": [
    {
     "data": {
      "text/plain": [
       "False"
      ]
     },
     "execution_count": 95,
     "metadata": {},
     "output_type": "execute_result"
    }
   ],
   "source": [
    "uniqueGenres[45] == uniqueGenres[5]"
   ]
  },
  {
   "cell_type": "code",
   "execution_count": 52,
   "metadata": {},
   "outputs": [],
   "source": [
    "def df_to_dataset(dataframe, shuffle=True, batch_size=32):\n",
    "  df = dataframe.copy()\n",
    "  labels = df.pop('Score')\n",
    "  df = df.Ranked.apply(lambda x: float(x))\n",
    "  df = {key: value[:,tf.newaxis] for key, value in dataframe.items()}\n",
    "  labels = [float(x) for x in labels]\n",
    "  ds = tf.data.Dataset.from_tensor_slices((dict(df), labels))\n",
    "  if shuffle:\n",
    "    ds = ds.shuffle(buffer_size=len(dataframe))\n",
    "  ds = ds.batch(batch_size)\n",
    "  ds = ds.prefetch(batch_size)\n",
    "  return ds"
   ]
  },
  {
   "cell_type": "code",
   "execution_count": 53,
   "metadata": {},
   "outputs": [
    {
     "name": "stderr",
     "output_type": "stream",
     "text": [
      "/var/folders/x6/lvkjlh4x45bdhl62l88rhwzm0000gn/T/ipykernel_43598/788637479.py:5: FutureWarning: Support for multi-dimensional indexing (e.g. `obj[:, None]`) is deprecated and will be removed in a future version.  Convert to a numpy array before indexing instead.\n",
      "  df = {key: value[:,tf.newaxis] for key, value in dataframe.items()}\n"
     ]
    }
   ],
   "source": [
    "\n",
    "train_ds = df_to_dataset(train, batch_size=5)"
   ]
  },
  {
   "cell_type": "code",
   "execution_count": 56,
   "metadata": {},
   "outputs": [
    {
     "name": "stdout",
     "output_type": "stream",
     "text": [
      "Every feature: ['Score', 'Ranked', 'Genres', 'eng_name', 'Type', 'Episodes', 'Source', 'Studios']\n",
      "A batch of scores: tf.Tensor(\n",
      "[[6.15]\n",
      " [5.85]\n",
      " [7.55]\n",
      " [6.55]\n",
      " [5.48]], shape=(5, 1), dtype=float64)\n",
      "A batch of targets: tf.Tensor([6.15 5.85 7.55 6.55 5.48], shape=(5,), dtype=float32)\n"
     ]
    }
   ],
   "source": [
    "[(train_features, label_batch)] = train_ds.take(1)\n",
    "print('Every feature:', list(train_features.keys()))\n",
    "print('A batch of scores:', train_features['Score'])\n",
    "print('A batch of targets:', label_batch )"
   ]
  },
  {
   "cell_type": "code",
   "execution_count": 57,
   "metadata": {},
   "outputs": [],
   "source": [
    "def get_normalization_layer(name, dataset):\n",
    "  # Create a Normalization layer for the feature.\n",
    "  normalizer = layers.Normalization(axis=None)\n",
    "\n",
    "  # Prepare a Dataset that only yields the feature.\n",
    "  feature_ds = dataset.map(lambda x, y: x[name])\n",
    "\n",
    "  # Learn the statistics of the data.\n",
    "  normalizer.adapt(feature_ds)\n",
    "\n",
    "  return normalizer"
   ]
  },
  {
   "cell_type": "code",
   "execution_count": 59,
   "metadata": {},
   "outputs": [
    {
     "data": {
      "text/plain": [
       "<tf.Tensor: shape=(5, 1), dtype=float32, numpy=\n",
       "array([[-0.23386315],\n",
       "       [-0.05368987],\n",
       "       [ 0.8696981 ],\n",
       "       [-0.2563848 ],\n",
       "       [-0.23386315]], dtype=float32)>"
      ]
     },
     "execution_count": 59,
     "metadata": {},
     "output_type": "execute_result"
    }
   ],
   "source": [
    "numEpisodes = train_features['Episodes']\n",
    "layer = get_normalization_layer('Episodes',train_ds)\n",
    "layer(numEpisodes)"
   ]
  },
  {
   "cell_type": "code",
   "execution_count": 60,
   "metadata": {},
   "outputs": [],
   "source": [
    "def get_category_encoding_layer(name, dataset, dtype, max_tokens=None):\n",
    "  # Create a layer that turns strings into integer indices.\n",
    "  if dtype == 'string':\n",
    "    index = layers.StringLookup(max_tokens=max_tokens)\n",
    "  # Otherwise, create a layer that turns integer values into integer indices.\n",
    "  else:\n",
    "    index = layers.IntegerLookup(max_tokens=max_tokens)\n",
    "\n",
    "  # Prepare a `tf.data.Dataset` that only yields the feature.\n",
    "  feature_ds = dataset.map(lambda x, y: x[name])\n",
    "\n",
    "  # Learn the set of possible values and assign them a fixed integer index.\n",
    "  index.adapt(feature_ds)\n",
    "\n",
    "  # Encode the integer indices.\n",
    "  encoder = layers.CategoryEncoding(num_tokens=index.vocabulary_size())\n",
    "\n",
    "  # Apply multi-hot encoding to the indices. The lambda function captures the\n",
    "  # layer, so you can use them, or include them in the Keras Functional model later.\n",
    "  return lambda feature: encoder(index(feature))"
   ]
  },
  {
   "cell_type": "code",
   "execution_count": 61,
   "metadata": {},
   "outputs": [
    {
     "data": {
      "text/plain": [
       "<tf.Tensor: shape=(5, 7), dtype=float32, numpy=\n",
       "array([[0., 0., 0., 0., 1., 0., 0.],\n",
       "       [0., 1., 0., 0., 0., 0., 0.],\n",
       "       [0., 1., 0., 0., 0., 0., 0.],\n",
       "       [0., 0., 0., 0., 1., 0., 0.],\n",
       "       [0., 0., 0., 0., 0., 1., 0.]], dtype=float32)>"
      ]
     },
     "execution_count": 61,
     "metadata": {},
     "output_type": "execute_result"
    }
   ],
   "source": [
    "type_col = train_features['Type']\n",
    "type_layer = get_category_encoding_layer(name='Type',\n",
    "                                              dataset=train_ds,\n",
    "                                              dtype='string')\n",
    "type_layer(type_col)"
   ]
  },
  {
   "cell_type": "code",
   "execution_count": 63,
   "metadata": {},
   "outputs": [
    {
     "data": {
      "text/plain": [
       "<tf.Tensor: shape=(5, 779), dtype=float32, numpy=\n",
       "array([[0., 0., 0., ..., 0., 0., 0.],\n",
       "       [0., 1., 0., ..., 0., 0., 0.],\n",
       "       [0., 0., 0., ..., 1., 0., 0.],\n",
       "       [0., 0., 0., ..., 0., 0., 0.],\n",
       "       [0., 0., 0., ..., 0., 0., 0.]], dtype=float32)>"
      ]
     },
     "execution_count": 63,
     "metadata": {},
     "output_type": "execute_result"
    }
   ],
   "source": [
    "\n",
    "type_col = train_features['Studios']\n",
    "type_layer = get_category_encoding_layer(name='Studios',\n",
    "                                              dataset=train_ds,\n",
    "                                              dtype='string')\n",
    "type_layer(type_col)"
   ]
  },
  {
   "cell_type": "code",
   "execution_count": null,
   "metadata": {},
   "outputs": [],
   "source": []
  }
 ],
 "metadata": {
  "kernelspec": {
   "display_name": "Python 3.9.12 ('base')",
   "language": "python",
   "name": "python3"
  },
  "language_info": {
   "codemirror_mode": {
    "name": "ipython",
    "version": 3
   },
   "file_extension": ".py",
   "mimetype": "text/x-python",
   "name": "python",
   "nbconvert_exporter": "python",
   "pygments_lexer": "ipython3",
   "version": "3.9.12"
  },
  "orig_nbformat": 4,
  "vscode": {
   "interpreter": {
    "hash": "3d597f4c481aa0f25dceb95d2a0067e73c0966dcbd003d741d821a7208527ecf"
   }
  }
 },
 "nbformat": 4,
 "nbformat_minor": 2
}

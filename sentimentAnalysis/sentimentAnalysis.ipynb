{
 "cells": [
  {
   "cell_type": "code",
   "execution_count": 3,
   "id": "9490ed1b-cf9b-41e9-85f2-c9c8ec4fd6df",
   "metadata": {},
   "outputs": [],
   "source": [
    "import matplotlib.pyplot as plt\n",
    "import os\n",
    "import re\n",
    "import shutil\n",
    "import string\n",
    "import tensorflow as tf\n",
    "\n",
    "from tensorflow.keras import layers\n",
    "from tensorflow.keras import losses\n"
   ]
  },
  {
   "cell_type": "code",
   "execution_count": 4,
   "id": "f11bee32-1257-4050-b778-cc325bb44d92",
   "metadata": {},
   "outputs": [
    {
     "name": "stdout",
     "output_type": "stream",
     "text": [
      "2.9.1\n"
     ]
    }
   ],
   "source": [
    "print(tf.__version__)"
   ]
  },
  {
   "cell_type": "code",
   "execution_count": 6,
   "id": "e8f252b7-457b-4121-a5e9-cb5d637ebc00",
   "metadata": {},
   "outputs": [
    {
     "name": "stdout",
     "output_type": "stream",
     "text": [
      "Downloading data from https://ai.stanford.edu/~amaas/data/sentiment/aclImdb_v1.tar.gz\n",
      "84125825/84125825 [==============================] - 96s 1us/step\n"
     ]
    }
   ],
   "source": [
    "url = \"https://ai.stanford.edu/~amaas/data/sentiment/aclImdb_v1.tar.gz\"\n",
    "dataset = tf.keras.utils.get_file(\"aclImdb_v1\", url, untar=True, cache_dir='.',\n",
    "                                 cache_subdir='')\n",
    "dataset_dir = os.path.join(os.path.dirname(dataset), 'aclImdb')"
   ]
  },
  {
   "cell_type": "code",
   "execution_count": 7,
   "id": "a1317500-0d5e-42bf-b02b-d52fb4388787",
   "metadata": {},
   "outputs": [
    {
     "data": {
      "text/plain": [
       "['imdb.vocab', 'imdbEr.txt', 'README', 'test', 'train']"
      ]
     },
     "execution_count": 7,
     "metadata": {},
     "output_type": "execute_result"
    }
   ],
   "source": [
    "os.listdir(dataset_dir)"
   ]
  },
  {
   "cell_type": "code",
   "execution_count": 8,
   "id": "7f0a4e85-b675-4c2e-9379-dfef31bf2b21",
   "metadata": {},
   "outputs": [],
   "source": [
    "train_dir = os.path.join(dataset_dir, 'train')"
   ]
  },
  {
   "cell_type": "code",
   "execution_count": 9,
   "id": "aa2c4b84-cac2-42ea-b3fd-8e2d73f639a8",
   "metadata": {},
   "outputs": [
    {
     "name": "stdout",
     "output_type": "stream",
     "text": [
      "Rachel Griffiths writes and directs this award winning short film. A heartwarming story about coping with grief and cherishing the memory of those we've loved and lost. Although, only 15 minutes long, Griffiths manages to capture so much emotion and truth onto film in the short space of time. Bud Tingwell gives a touching performance as Will, a widower struggling to cope with his wife's death. Will is confronted by the harsh reality of loneliness and helplessness as he proceeds to take care of Ruth's pet cow, Tulip. The film displays the grief and responsibility one feels for those they have loved and lost. Good cinematography, great direction, and superbly acted. It will bring tears to all those who have lost a loved one, and survived.\n"
     ]
    }
   ],
   "source": [
    "sample = os.path.join(train_dir, 'pos/1181_9.txt')\n",
    "with open(sample) as f:\n",
    "    print(f.read())"
   ]
  },
  {
   "cell_type": "code",
   "execution_count": 10,
   "id": "93e4f99f-360c-46b8-b97a-fc5b513270be",
   "metadata": {},
   "outputs": [],
   "source": [
    "removeDir = os.path.join(train_dir, 'unsup')\n",
    "shutil.rmtree(removeDir)"
   ]
  },
  {
   "cell_type": "code",
   "execution_count": 12,
   "id": "8d01fde2-86e4-48b3-8935-f3e14ca83502",
   "metadata": {},
   "outputs": [
    {
     "name": "stdout",
     "output_type": "stream",
     "text": [
      "Found 25000 files belonging to 2 classes.\n",
      "Using 20000 files for training.\n"
     ]
    }
   ],
   "source": [
    "batchSize = 32\n",
    "seed = 42\n",
    "rawTrainDs = tf.keras.utils.text_dataset_from_directory('aclImdb/train', batch_size=batchSize,\n",
    "                                                        validation_split=.2,\n",
    "                                                        subset='training',\n",
    "                                                        seed=seed)\n",
    "                                                        "
   ]
  },
  {
   "cell_type": "code",
   "execution_count": 13,
   "id": "95e61a35-954f-4f3b-90b4-642709c7fd73",
   "metadata": {
    "scrolled": true,
    "tags": []
   },
   "outputs": [
    {
     "name": "stdout",
     "output_type": "stream",
     "text": [
      "Review b'\"Pandemonium\" is a horror movie spoof that comes off more stupid than funny. Believe me when I tell you, I love comedies. Especially comedy spoofs. \"Airplane\", \"The Naked Gun\" trilogy, \"Blazing Saddles\", \"High Anxiety\", and \"Spaceballs\" are some of my favorite comedies that spoof a particular genre. \"Pandemonium\" is not up there with those films. Most of the scenes in this movie had me sitting there in stunned silence because the movie wasn\\'t all that funny. There are a few laughs in the film, but when you watch a comedy, you expect to laugh a lot more than a few times and that\\'s all this film has going for it. Geez, \"Scream\" had more laughs than this film and that was more of a horror film. How bizarre is that?<br /><br />*1/2 (out of four)'\n",
      "Label 0\n",
      "Review b\"David Mamet is a very interesting and a very un-equal director. His first movie 'House of Games' was the one I liked best, and it set a series of films with characters whose perspective of life changes as they get into complicated situations, and so does the perspective of the viewer.<br /><br />So is 'Homicide' which from the title tries to set the mind of the viewer to the usual crime drama. The principal characters are two cops, one Jewish and one Irish who deal with a racially charged area. The murder of an old Jewish shop owner who proves to be an ancient veteran of the Israeli Independence war triggers the Jewish identity in the mind and heart of the Jewish detective.<br /><br />This is were the flaws of the film are the more obvious. The process of awakening is theatrical and hard to believe, the group of Jewish militants is operatic, and the way the detective eventually walks to the final violent confrontation is pathetic. The end of the film itself is Mamet-like smart, but disappoints from a human emotional perspective.<br /><br />Joe Mantegna and William Macy give strong performances, but the flaws of the story are too evident to be easily compensated.\"\n",
      "Label 0\n",
      "Review b'Great documentary about the lives of NY firefighters during the worst terrorist attack of all time.. That reason alone is why this should be a must see collectors item.. What shocked me was not only the attacks, but the\"High Fat Diet\" and physical appearance of some of these firefighters. I think a lot of Doctors would agree with me that,in the physical shape they were in, some of these firefighters would NOT of made it to the 79th floor carrying over 60 lbs of gear. Having said that i now have a greater respect for firefighters and i realize becoming a firefighter is a life altering job. The French have a history of making great documentary\\'s and that is what this is, a Great Documentary.....'\n",
      "Label 1\n"
     ]
    }
   ],
   "source": [
    "for text_batch, label_batch in rawTrainDs.take(1):\n",
    "  for i in range(3):\n",
    "    print(\"Review\", text_batch.numpy()[i])\n",
    "    print(\"Label\", label_batch.numpy()[i])"
   ]
  },
  {
   "cell_type": "code",
   "execution_count": 14,
   "id": "cecb927a-a54f-4eb9-8b28-84104ed1cd50",
   "metadata": {},
   "outputs": [
    {
     "name": "stdout",
     "output_type": "stream",
     "text": [
      "Found 25000 files belonging to 2 classes.\n",
      "Using 5000 files for validation.\n"
     ]
    }
   ],
   "source": [
    "rawVals = tf.keras.utils.text_dataset_from_directory('aclImdb/train',\n",
    "                                                     batch_size=batchSize,\n",
    "                                                     validation_split=.2,\n",
    "                                                     subset='validation',\n",
    "                                                     seed=seed\n",
    ")"
   ]
  },
  {
   "cell_type": "code",
   "execution_count": null,
   "id": "8fa6c1f2-1fc4-4a02-8ffe-cee382c9b50f",
   "metadata": {},
   "outputs": [],
   "source": []
  },
  {
   "cell_type": "code",
   "execution_count": 46,
   "id": "3f8639ca-3797-4f1d-ba1a-8727ad57bfa6",
   "metadata": {},
   "outputs": [
    {
     "name": "stdout",
     "output_type": "stream",
     "text": [
      "Found 25000 files belonging to 2 classes.\n"
     ]
    }
   ],
   "source": [
    "\n",
    "rawTests = tf.keras.utils.text_dataset_from_directory('aclImdb/test', batch_size=batchSize)"
   ]
  },
  {
   "cell_type": "markdown",
   "id": "b653fed4-0ea5-4111-bf89-bae1bd7b167f",
   "metadata": {},
   "source": [
    "Note: When using the validation_split and subset arguments, make sure to either specify a random seed, or to pass shuffle=False, so that the validation and training splits have no overlap.\n",
    "\n",
    "rawTests = tf.keras.utils.text_dataset_from_directory('aclImdb/test', batch_size=batchSize)"
   ]
  },
  {
   "cell_type": "code",
   "execution_count": 30,
   "id": "4b8d7c3e-68a2-4f27-a247-6f61973f2695",
   "metadata": {},
   "outputs": [],
   "source": [
    "def custom_standardization(input_data):\n",
    "    lowercase = tf.strings.lower(input_data)\n",
    "    stripped_html = tf.strings.regex_replace(lowercase, '<br />', ' ')\n",
    "    return tf.strings.regex_replace(stripped_html,\n",
    "                                  '[%s]' % re.escape(string.punctuation),\n",
    "                                  '')"
   ]
  },
  {
   "cell_type": "code",
   "execution_count": 33,
   "id": "d8944ccd-551b-4ffd-915e-15437c02a221",
   "metadata": {},
   "outputs": [],
   "source": [
    "maxFeats = 10000\n",
    "sequenceLength = 250\n",
    "\n",
    "vectorizeLayer = layers.TextVectorization(standardize=custom_standardization, max_tokens=maxFeats, output_mode='int', output_sequence_length=sequenceLength)"
   ]
  },
  {
   "cell_type": "code",
   "execution_count": 34,
   "id": "75c4f43e-1126-4a8c-9db1-56716e1ea692",
   "metadata": {},
   "outputs": [],
   "source": [
    "trainText = rawTrainDs.map(lambda x, y:x)\n",
    "vectorizeLayer.adapt(trainText)"
   ]
  },
  {
   "cell_type": "code",
   "execution_count": 36,
   "id": "e7ff704b-6235-4884-900c-3014bc57378f",
   "metadata": {},
   "outputs": [],
   "source": [
    "def vectorize_text(text, label):\n",
    "    print(text.shape)\n",
    "    text = tf.expand_dims(text, -1)\n",
    "    print(text.shape)\n",
    "    return vectorizeLayer(text), label"
   ]
  },
  {
   "cell_type": "code",
   "execution_count": 42,
   "id": "ef629986-5ebb-4c52-b90f-3a0ba123e62f",
   "metadata": {
    "scrolled": true,
    "tags": []
   },
   "outputs": [
    {
     "name": "stdout",
     "output_type": "stream",
     "text": [
      "Review tf.Tensor(b'\"Emma\" was a product of what might be called by the First Great Jane Austen Cycle of the mid-nineties, and it was recently shown on British television, doubtless because of the interest in the author created by the Second Great Jane Austen Cycle which started with \"Pride and Prejudice\" two years ago. We currently have in the cinemas the Austen biopic \"Becoming Jane\", and ITV have recently produced three TV movies based on Austen novels. These include \"Northanger Abbey\", the only one of the six major novels not to have been filmed previously, so the cycle should now be complete. No doubt, however, there will be more to come in the near future. (There is, after all, her juvenile \"Love and Freindship\" (sic), the short novella \"Lady Susan\", and someone, somewhere, has doubtless supplied endings to her two unfinished fragments \"The Watsons\" and \"Sanditon\". Then there are all those Austen sequels churned out by modern writers\\xc2\\x85\\xc2\\x85\\xc2\\x85).<br /><br />The main character is Emma Woodhouse, a young lady from an aristocratic family in Regency England. (Not, as some reviewers have assumed, Victorian England- Austen died before Queen Victoria was even born). Emma is, financially, considerably better off than most Austen heroines such as Elizabeth Bennett or Fanny Price, and has no need to find herself a wealthy husband. Instead, her main preoccupation seems to be finding husbands for her friends. She persuades her friend Harriet to turn down a proposal of marriage from a young farmer, Robert Martin, believing that Harriet should be setting her sights on the ambitious clergyman Mr Elton. This scheme goes disastrously wrong, however, as Elton has no interest in Harriet, but has fallen in love with Emma herself. The speed with which Emma rejects his proposal makes one wonder just why she was so keen to match her friend with a man she regards (with good reason) as an unsuitable marriage partner for herself. This being a Jane Austen plot, Emma turns out to be less of a committed spinster than she seems, and she too finds herself falling in love, leading to further complications.<br /><br />Emma always insists that she will not marry without affection, and when she does find a partner, the handsome Mr Knightley, we feel that this will indeed be an affectionate marriage. It does not, however, seem likely to be a very passionate one (unlike, say, that of Elizabeth Bennett and Mr Darcy). Knightley, who is sixteen years older than Emma (she is 21, he 37), and related to her by marriage, is more like a father-figure than a lover. Much more of a father-figure, in fact, than her actual father, a querulous and selfish old hypochondriac who seems more like her grandfather. When Emma is rude to her unbearably garrulous and tedious friend Miss Bates, it is Knightley who chides her for her lack of manners. (His surname is probably meant to indicate his gentlemanly nature- nineteenth-century gentlemen liked to think of themselves as the modern equivalent of mediaeval knights with their elaborate codes of chivalry). Both Gwyneth Paltrow and Jeremy Northam play their parts very well, but this is not really one of the great screen romances.<br /><br />Of the other characters, I liked Juliet Stephenson\\'s vulgar Mrs Elton and Toni Collette\\'s Harriet. I know that in the novel Harriet was a na\\xc3\\xafve young teenager, whereas here she is more like the character Collette played in \"Muriel\\'s Wedding\"- a gauche, slightly overweight twentysomething, fretting about her chances of finding a man. Nevertheless, I felt that this characterisation worked well in the context of the film and did not detract from Austen\\'s themes.<br /><br />\"Emma\" is one of Austen\\'s more light-hearted works, without the darker overtones of \"Mansfield Park\" or even \"Pride and Prejudice\", and this is reflected on screen. We see a world of beauty and grace, full of stately homes and elegant costumes and fine manners. Apart from the ruffianly gypsies, who make a very brief appearance, the only \"poor\" people we see are Mrs Bates and her daughter, and, as they live in the sort of picturesque rose-strewn thatched cottage which today would change hands for over \\xc2\\xa3500,000, we can be sure that their poverty is relative, not absolute. In Emma\\'s world, poverty is defined as not having your own stately home. This is, of course, not a comprehensive picture of early nineteenth-century life, but nobody has ever claimed Austen as the Regency equivalent of a kitchen-sink realist. Sophisticated romantic comedy, combined with a keen eye for analysing human character, was more in her line.<br /><br />I would not rate this film quite as highly as the 1994 \"Sense and Sensibility\" or the recent \"Pride and Prejudice\"- it tends to drag a bit in the middle, although it has a strong beginning and strong ending- but it is, in the main, a highly enjoyable Austen adaptation. 7/10', shape=(), dtype=string)\n",
      "label pos\n",
      "()\n",
      "(1,)\n",
      "Vectorized Review (<tf.Tensor: shape=(1, 250), dtype=int64, numpy=\n",
      "array([[2521,   13,    4, 2217,    5,   48,  227,   26,  488,   32,    2,\n",
      "          83,   85, 1012, 6755, 6988,    5,    2,    1,    3,    9,   13,\n",
      "         985,  580,   20,  682,  707,    1,   84,    5,    2,  600,    8,\n",
      "           2, 2172, 1033,   32,    2,  333,   85, 1012, 6755, 6988,   60,\n",
      "         605,   16, 3109,    3, 5436,  104,  149,  591,   71, 3775,   25,\n",
      "           8,    2, 4954,    2, 6755, 6881, 1590, 1012,    3,    1,   25,\n",
      "         985, 1122,  297,  243,   91,  443,   20, 6755, 2629,  129, 1429,\n",
      "           1,    1,    2,   61,   28,    5,    2, 1539,  653, 2629,   21,\n",
      "           6,   25,   74,  815, 2353,   37,    2, 6988,  139,  148,   26,\n",
      "         556,   57,  800,  189,   47,   76,   26,   50,    6,  203,    8,\n",
      "           2,  781,  702,   47,    7,  101,   30,   39, 3695,  115,    3,\n",
      "           1,    1,    2,  350,    1,  729, 2742,    3,  282, 1120,   43,\n",
      "           1,    1, 4050,    6,   39,  104,    1,    1,    2,    1,    3,\n",
      "           1,   92,   47,   23,   30,  143, 6755, 2140,    1,   44,   32,\n",
      "         709,    1,    2,  275,  106,    7, 2521,    1,    4,  181,  729,\n",
      "          35,   33,    1,  215,    8,    1, 1777,   21,   14,   46, 1866,\n",
      "          25, 5341, 7147, 1777, 6755, 1070,  153, 1573, 2375,   13,   53,\n",
      "        1459, 2521,    7,    1, 5759,  122,  127,   70,   88, 6755, 8655,\n",
      "         135,   14, 2733, 7414,   41,    1, 1841,    3,   43,   57,  349,\n",
      "           6,  163,  733,    4, 3119,  673,  291,   39,  275,    1,  180,\n",
      "           6,   26, 1578, 2988,   15,   39,  335,   55,    1,   39,  467,\n",
      "        5921,    6,  460,  185,    4,    1,    5, 1355,   35,    4,  181,\n",
      "        6022,  641, 1555, 3202,   12, 5921,  139,   26]], dtype=int64)>, <tf.Tensor: shape=(), dtype=int32, numpy=1>)\n"
     ]
    }
   ],
   "source": [
    "textBatch, labelBatch = next(iter(rawTrainDs))\n",
    "firstReview, firstLabel = textBatch[0], labelBatch[0]\n",
    "print(\"Review\", firstReview)\n",
    "print(\"label\", rawTrainDs.class_names[firstLabel])\n",
    "print(\"Vectorized Review\", vectorize_text(firstReview, firstLabel))"
   ]
  },
  {
   "cell_type": "code",
   "execution_count": 45,
   "id": "ddf873e4-712a-4c86-8898-20673627cc02",
   "metadata": {
    "scrolled": true,
    "tags": []
   },
   "outputs": [
    {
     "name": "stdout",
     "output_type": "stream",
     "text": [
      "1287 --->  lovely\n",
      "313 --->  american\n",
      "Vocab size: 10000\n"
     ]
    }
   ],
   "source": [
    "print(\"1287 ---> \",vectorizeLayer.get_vocabulary()[1287])\n",
    "print(\"313 ---> \",vectorizeLayer.get_vocabulary()[313])\n",
    "print('Vocab size: {}'.format(len(vectorizeLayer.get_vocabulary())))\n",
    "\n"
   ]
  },
  {
   "cell_type": "code",
   "execution_count": 47,
   "id": "f37bbdf4-74f2-4340-8790-0b29d8aa127b",
   "metadata": {},
   "outputs": [
    {
     "name": "stdout",
     "output_type": "stream",
     "text": [
      "(None,)\n",
      "(None, 1)\n",
      "(None,)\n",
      "(None, 1)\n",
      "(None,)\n",
      "(None, 1)\n"
     ]
    }
   ],
   "source": [
    "trainDs = rawTrainDs.map(vectorize_text)\n",
    "valDs = rawVals.map(vectorize_text)\n",
    "testDs = rawTests.map(vectorize_text)"
   ]
  },
  {
   "cell_type": "code",
   "execution_count": 49,
   "id": "faebdb19-82ff-41b0-aaaf-de28c2ed959d",
   "metadata": {},
   "outputs": [],
   "source": [
    "autoTune = tf.data.AUTOTUNE\n",
    "trainDs = trainDs.cache().prefetch(buffer_size=autoTune)\n",
    "valDs = valDs.cache().prefetch(buffer_size=autoTune)\n",
    "testDs = testDs.cache().prefetch(buffer_size=autoTune)"
   ]
  },
  {
   "cell_type": "code",
   "execution_count": 53,
   "id": "06dd9136-2d29-4095-8354-e4cdb199f13a",
   "metadata": {},
   "outputs": [
    {
     "name": "stdout",
     "output_type": "stream",
     "text": [
      "Model: \"sequential\"\n",
      "_________________________________________________________________\n",
      " Layer (type)                Output Shape              Param #   \n",
      "=================================================================\n",
      " embedding_2 (Embedding)     (None, None, 16)          160016    \n",
      "                                                                 \n",
      " dropout_4 (Dropout)         (None, None, 16)          0         \n",
      "                                                                 \n",
      " global_average_pooling1d_2   (None, 16)               0         \n",
      " (GlobalAveragePooling1D)                                        \n",
      "                                                                 \n",
      " dropout_5 (Dropout)         (None, 16)                0         \n",
      "                                                                 \n",
      " dense_1 (Dense)             (None, 1)                 17        \n",
      "                                                                 \n",
      "=================================================================\n",
      "Total params: 160,033\n",
      "Trainable params: 160,033\n",
      "Non-trainable params: 0\n",
      "_________________________________________________________________\n"
     ]
    }
   ],
   "source": [
    "embeddingDim = 16\n",
    "model = tf.keras.Sequential([\n",
    "    layers.Embedding(maxFeats + 1, embeddingDim),\n",
    "    layers.Dropout(0.2),\n",
    "    layers.GlobalAveragePooling1D(),\n",
    "    layers.Dropout(0.2),\n",
    "    layers.Dense(1)])\n",
    "model.summary()"
   ]
  },
  {
   "cell_type": "code",
   "execution_count": null,
   "id": "955cccdd-87d0-4c9d-af2b-afbc769ad4d3",
   "metadata": {},
   "outputs": [],
   "source": [
    "model.compile(loss=losses.BinaryCrossentropy(from_logits=True"
   ]
  }
 ],
 "metadata": {
  "kernelspec": {
   "display_name": "Python 3",
   "language": "python",
   "name": "python3"
  },
  "language_info": {
   "codemirror_mode": {
    "name": "ipython",
    "version": 3
   },
   "file_extension": ".py",
   "mimetype": "text/x-python",
   "name": "python",
   "nbconvert_exporter": "python",
   "pygments_lexer": "ipython3",
   "version": "3.9.11"
  }
 },
 "nbformat": 4,
 "nbformat_minor": 5
}

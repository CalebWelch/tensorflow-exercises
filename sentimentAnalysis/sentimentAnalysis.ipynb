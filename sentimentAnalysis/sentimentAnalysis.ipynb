{
 "cells": [
  {
   "cell_type": "code",
   "execution_count": 2,
   "id": "9490ed1b-cf9b-41e9-85f2-c9c8ec4fd6df",
   "metadata": {},
   "outputs": [],
   "source": [
    "import matplotlib.pyplot as plt\n",
    "import os\n",
    "import re\n",
    "import shutil\n",
    "import string\n",
    "import tensorflow as tf\n",
    "\n",
    "from tensorflow.keras import layers\n",
    "from tensorflow.keras import losses\n"
   ]
  },
  {
   "cell_type": "code",
   "execution_count": 3,
   "id": "f11bee32-1257-4050-b778-cc325bb44d92",
   "metadata": {},
   "outputs": [
    {
     "name": "stdout",
     "output_type": "stream",
     "text": [
      "2.9.1\n"
     ]
    }
   ],
   "source": [
    "print(tf.__version__)"
   ]
  },
  {
   "cell_type": "code",
   "execution_count": 4,
   "id": "e8f252b7-457b-4121-a5e9-cb5d637ebc00",
   "metadata": {},
   "outputs": [],
   "source": [
    "url = \"https://ai.stanford.edu/~amaas/data/sentiment/aclImdb_v1.tar.gz\"\n",
    "dataset = tf.keras.utils.get_file(\"aclImdb_v1\", url, untar=True, cache_dir='.',\n",
    "                                 cache_subdir='')\n",
    "dataset_dir = os.path.join(os.path.dirname(dataset), 'aclImdb')"
   ]
  },
  {
   "cell_type": "code",
   "execution_count": 12,
   "id": "a1317500-0d5e-42bf-b02b-d52fb4388787",
   "metadata": {},
   "outputs": [
    {
     "data": {
      "text/plain": [
       "['imdbEr.txt', 'test', 'imdb.vocab', 'README', 'train']"
      ]
     },
     "execution_count": 12,
     "metadata": {},
     "output_type": "execute_result"
    }
   ],
   "source": [
    "os.listdir(dataset_dir)"
   ]
  },
  {
   "cell_type": "code",
   "execution_count": 13,
   "id": "7f0a4e85-b675-4c2e-9379-dfef31bf2b21",
   "metadata": {},
   "outputs": [],
   "source": [
    "train_dir = os.path.join(dataset_dir, 'train')"
   ]
  },
  {
   "cell_type": "code",
   "execution_count": 14,
   "id": "aa2c4b84-cac2-42ea-b3fd-8e2d73f639a8",
   "metadata": {},
   "outputs": [
    {
     "name": "stdout",
     "output_type": "stream",
     "text": [
      "Rachel Griffiths writes and directs this award winning short film. A heartwarming story about coping with grief and cherishing the memory of those we've loved and lost. Although, only 15 minutes long, Griffiths manages to capture so much emotion and truth onto film in the short space of time. Bud Tingwell gives a touching performance as Will, a widower struggling to cope with his wife's death. Will is confronted by the harsh reality of loneliness and helplessness as he proceeds to take care of Ruth's pet cow, Tulip. The film displays the grief and responsibility one feels for those they have loved and lost. Good cinematography, great direction, and superbly acted. It will bring tears to all those who have lost a loved one, and survived.\n"
     ]
    }
   ],
   "source": [
    "sample = os.path.join(train_dir, 'pos/1181_9.txt')\n",
    "with open(sample) as f:\n",
    "    print(f.read())"
   ]
  },
  {
   "cell_type": "code",
   "execution_count": 15,
   "id": "93e4f99f-360c-46b8-b97a-fc5b513270be",
   "metadata": {},
   "outputs": [
    {
     "ename": "FileNotFoundError",
     "evalue": "[Errno 2] No such file or directory: './aclImdb/train/unsup'",
     "output_type": "error",
     "traceback": [
      "\u001b[0;31m---------------------------------------------------------------------------\u001b[0m",
      "\u001b[0;31mFileNotFoundError\u001b[0m                         Traceback (most recent call last)",
      "Input \u001b[0;32mIn [15]\u001b[0m, in \u001b[0;36m<cell line: 2>\u001b[0;34m()\u001b[0m\n\u001b[1;32m      1\u001b[0m removeDir \u001b[38;5;241m=\u001b[39m os\u001b[38;5;241m.\u001b[39mpath\u001b[38;5;241m.\u001b[39mjoin(train_dir, \u001b[38;5;124m'\u001b[39m\u001b[38;5;124munsup\u001b[39m\u001b[38;5;124m'\u001b[39m)\n\u001b[0;32m----> 2\u001b[0m \u001b[43mshutil\u001b[49m\u001b[38;5;241;43m.\u001b[39;49m\u001b[43mrmtree\u001b[49m\u001b[43m(\u001b[49m\u001b[43mremoveDir\u001b[49m\u001b[43m)\u001b[49m\n",
      "File \u001b[0;32m/usr/local/Cellar/python@3.9/3.9.13_1/Frameworks/Python.framework/Versions/3.9/lib/python3.9/shutil.py:724\u001b[0m, in \u001b[0;36mrmtree\u001b[0;34m(path, ignore_errors, onerror)\u001b[0m\n\u001b[1;32m    722\u001b[0m     orig_st \u001b[38;5;241m=\u001b[39m os\u001b[38;5;241m.\u001b[39mlstat(path)\n\u001b[1;32m    723\u001b[0m \u001b[38;5;28;01mexcept\u001b[39;00m \u001b[38;5;167;01mException\u001b[39;00m:\n\u001b[0;32m--> 724\u001b[0m     \u001b[43monerror\u001b[49m\u001b[43m(\u001b[49m\u001b[43mos\u001b[49m\u001b[38;5;241;43m.\u001b[39;49m\u001b[43mlstat\u001b[49m\u001b[43m,\u001b[49m\u001b[43m \u001b[49m\u001b[43mpath\u001b[49m\u001b[43m,\u001b[49m\u001b[43m \u001b[49m\u001b[43msys\u001b[49m\u001b[38;5;241;43m.\u001b[39;49m\u001b[43mexc_info\u001b[49m\u001b[43m(\u001b[49m\u001b[43m)\u001b[49m\u001b[43m)\u001b[49m\n\u001b[1;32m    725\u001b[0m     \u001b[38;5;28;01mreturn\u001b[39;00m\n\u001b[1;32m    726\u001b[0m \u001b[38;5;28;01mtry\u001b[39;00m:\n",
      "File \u001b[0;32m/usr/local/Cellar/python@3.9/3.9.13_1/Frameworks/Python.framework/Versions/3.9/lib/python3.9/shutil.py:722\u001b[0m, in \u001b[0;36mrmtree\u001b[0;34m(path, ignore_errors, onerror)\u001b[0m\n\u001b[1;32m    719\u001b[0m \u001b[38;5;66;03m# Note: To guard against symlink races, we use the standard\u001b[39;00m\n\u001b[1;32m    720\u001b[0m \u001b[38;5;66;03m# lstat()/open()/fstat() trick.\u001b[39;00m\n\u001b[1;32m    721\u001b[0m \u001b[38;5;28;01mtry\u001b[39;00m:\n\u001b[0;32m--> 722\u001b[0m     orig_st \u001b[38;5;241m=\u001b[39m \u001b[43mos\u001b[49m\u001b[38;5;241;43m.\u001b[39;49m\u001b[43mlstat\u001b[49m\u001b[43m(\u001b[49m\u001b[43mpath\u001b[49m\u001b[43m)\u001b[49m\n\u001b[1;32m    723\u001b[0m \u001b[38;5;28;01mexcept\u001b[39;00m \u001b[38;5;167;01mException\u001b[39;00m:\n\u001b[1;32m    724\u001b[0m     onerror(os\u001b[38;5;241m.\u001b[39mlstat, path, sys\u001b[38;5;241m.\u001b[39mexc_info())\n",
      "\u001b[0;31mFileNotFoundError\u001b[0m: [Errno 2] No such file or directory: './aclImdb/train/unsup'"
     ]
    }
   ],
   "source": [
    "removeDir = os.path.join(train_dir, 'unsup')\n",
    "shutil.rmtree(removeDir)"
   ]
  },
  {
   "cell_type": "code",
   "execution_count": 16,
   "id": "8d01fde2-86e4-48b3-8935-f3e14ca83502",
   "metadata": {},
   "outputs": [
    {
     "name": "stdout",
     "output_type": "stream",
     "text": [
      "Found 25000 files belonging to 2 classes.\n",
      "Using 20000 files for training.\n"
     ]
    }
   ],
   "source": [
    "batchSize = 32\n",
    "seed = 42\n",
    "rawTrainDs = tf.keras.utils.text_dataset_from_directory('aclImdb/train', batch_size=batchSize,\n",
    "                                                        validation_split=.2,\n",
    "                                                        subset='training',\n",
    "                                                        seed=seed)\n",
    "                                                        "
   ]
  },
  {
   "cell_type": "code",
   "execution_count": 17,
   "id": "95e61a35-954f-4f3b-90b4-642709c7fd73",
   "metadata": {
    "scrolled": true,
    "tags": []
   },
   "outputs": [
    {
     "name": "stdout",
     "output_type": "stream",
     "text": [
      "Review b'\"Pandemonium\" is a horror movie spoof that comes off more stupid than funny. Believe me when I tell you, I love comedies. Especially comedy spoofs. \"Airplane\", \"The Naked Gun\" trilogy, \"Blazing Saddles\", \"High Anxiety\", and \"Spaceballs\" are some of my favorite comedies that spoof a particular genre. \"Pandemonium\" is not up there with those films. Most of the scenes in this movie had me sitting there in stunned silence because the movie wasn\\'t all that funny. There are a few laughs in the film, but when you watch a comedy, you expect to laugh a lot more than a few times and that\\'s all this film has going for it. Geez, \"Scream\" had more laughs than this film and that was more of a horror film. How bizarre is that?<br /><br />*1/2 (out of four)'\n",
      "Label 0\n",
      "Review b\"David Mamet is a very interesting and a very un-equal director. His first movie 'House of Games' was the one I liked best, and it set a series of films with characters whose perspective of life changes as they get into complicated situations, and so does the perspective of the viewer.<br /><br />So is 'Homicide' which from the title tries to set the mind of the viewer to the usual crime drama. The principal characters are two cops, one Jewish and one Irish who deal with a racially charged area. The murder of an old Jewish shop owner who proves to be an ancient veteran of the Israeli Independence war triggers the Jewish identity in the mind and heart of the Jewish detective.<br /><br />This is were the flaws of the film are the more obvious. The process of awakening is theatrical and hard to believe, the group of Jewish militants is operatic, and the way the detective eventually walks to the final violent confrontation is pathetic. The end of the film itself is Mamet-like smart, but disappoints from a human emotional perspective.<br /><br />Joe Mantegna and William Macy give strong performances, but the flaws of the story are too evident to be easily compensated.\"\n",
      "Label 0\n",
      "Review b'Great documentary about the lives of NY firefighters during the worst terrorist attack of all time.. That reason alone is why this should be a must see collectors item.. What shocked me was not only the attacks, but the\"High Fat Diet\" and physical appearance of some of these firefighters. I think a lot of Doctors would agree with me that,in the physical shape they were in, some of these firefighters would NOT of made it to the 79th floor carrying over 60 lbs of gear. Having said that i now have a greater respect for firefighters and i realize becoming a firefighter is a life altering job. The French have a history of making great documentary\\'s and that is what this is, a Great Documentary.....'\n",
      "Label 1\n"
     ]
    }
   ],
   "source": [
    "for text_batch, label_batch in rawTrainDs.take(1):\n",
    "  for i in range(3):\n",
    "    print(\"Review\", text_batch.numpy()[i])\n",
    "    print(\"Label\", label_batch.numpy()[i])"
   ]
  },
  {
   "cell_type": "code",
   "execution_count": 18,
   "id": "cecb927a-a54f-4eb9-8b28-84104ed1cd50",
   "metadata": {},
   "outputs": [
    {
     "name": "stdout",
     "output_type": "stream",
     "text": [
      "Found 25000 files belonging to 2 classes.\n",
      "Using 5000 files for validation.\n"
     ]
    }
   ],
   "source": [
    "rawVals = tf.keras.utils.text_dataset_from_directory('aclImdb/train',\n",
    "                                                     batch_size=batchSize,\n",
    "                                                     validation_split=.2,\n",
    "                                                     subset='validation',\n",
    "                                                     seed=seed\n",
    ")"
   ]
  },
  {
   "cell_type": "code",
   "execution_count": null,
   "id": "8fa6c1f2-1fc4-4a02-8ffe-cee382c9b50f",
   "metadata": {},
   "outputs": [],
   "source": []
  },
  {
   "cell_type": "code",
   "execution_count": 19,
   "id": "3f8639ca-3797-4f1d-ba1a-8727ad57bfa6",
   "metadata": {},
   "outputs": [
    {
     "name": "stdout",
     "output_type": "stream",
     "text": [
      "Found 25000 files belonging to 2 classes.\n"
     ]
    }
   ],
   "source": [
    "\n",
    "rawTests = tf.keras.utils.text_dataset_from_directory('aclImdb/test', batch_size=batchSize)"
   ]
  },
  {
   "cell_type": "markdown",
   "id": "b653fed4-0ea5-4111-bf89-bae1bd7b167f",
   "metadata": {},
   "source": [
    "Note: When using the validation_split and subset arguments, make sure to either specify a random seed, or to pass shuffle=False, so that the validation and training splits have no overlap.\n",
    "\n",
    "rawTests = tf.keras.utils.text_dataset_from_directory('aclImdb/test', batch_size=batchSize)"
   ]
  },
  {
   "cell_type": "code",
   "execution_count": 20,
   "id": "4b8d7c3e-68a2-4f27-a247-6f61973f2695",
   "metadata": {},
   "outputs": [],
   "source": [
    "def custom_standardization(input_data):\n",
    "    lowercase = tf.strings.lower(input_data)\n",
    "    stripped_html = tf.strings.regex_replace(lowercase, '<br />', ' ')\n",
    "    return tf.strings.regex_replace(stripped_html,\n",
    "                                  '[%s]' % re.escape(string.punctuation),\n",
    "                                  '')"
   ]
  },
  {
   "cell_type": "code",
   "execution_count": 63,
   "id": "d8944ccd-551b-4ffd-915e-15437c02a221",
   "metadata": {},
   "outputs": [],
   "source": [
    "maxFeats = 10000\n",
    "sequenceLength = 250\n",
    "\n",
    "vectorizeLayer = layers.TextVectorization(standardize=custom_standardization,\n",
    "                                          max_tokens=maxFeats,\n",
    "                                          output_mode='int',\n",
    "                                          output_sequence_length=sequenceLength)\n",
    "\n"
   ]
  },
  {
   "cell_type": "code",
   "execution_count": 64,
   "id": "75c4f43e-1126-4a8c-9db1-56716e1ea692",
   "metadata": {},
   "outputs": [],
   "source": [
    "\n",
    "trainText = rawTrainDs.map(lambda x, y:x)\n",
    "vectorizeLayer.adapt(trainText)"
   ]
  },
  {
   "cell_type": "code",
   "execution_count": 65,
   "id": "e7ff704b-6235-4884-900c-3014bc57378f",
   "metadata": {},
   "outputs": [],
   "source": [
    "def vectorize_text(text, label):\n",
    "    print(text.shape)\n",
    "    text = tf.expand_dims(text, -1)\n",
    "    print(text.shape)\n",
    "    return vectorizeLayer(text), label"
   ]
  },
  {
   "cell_type": "code",
   "execution_count": 66,
   "id": "ef629986-5ebb-4c52-b90f-3a0ba123e62f",
   "metadata": {
    "scrolled": true,
    "tags": []
   },
   "outputs": [
    {
     "name": "stdout",
     "output_type": "stream",
     "text": [
      "()\n",
      "(1,)\n",
      "Vectorized Review (<tf.Tensor: shape=(1, 250), dtype=int64, numpy=\n",
      "array([[2528,   13,    4, 2218,    5,   48,  227,   26,  488,   32,    2,\n",
      "          83,   86, 1007, 6768, 6996,    5,    2,    1,    3,    9,   13,\n",
      "         986,  581,   20,  681,  708,    1,   84,    5,    2,  598,    8,\n",
      "           2, 2174, 1033,   32,    2,  333,   86, 1007, 6768, 6996,   60,\n",
      "         606,   16, 3114,    3, 5437,  104,  149,  589,   71, 3780,   25,\n",
      "           8,    2, 4959,    2, 6768, 6887, 1587, 1007,    3,    1,   25,\n",
      "         986, 1118,  297,  243,   91,  443,   20, 6768, 2630,  129, 1429,\n",
      "           1,    1,    2,   61,   28,    5,    2, 1539,  653, 2630,   21,\n",
      "           6,   25,   74,  814, 2353,   37,    2, 6996,  139,  148,   26,\n",
      "         555,   57,  803,  189,   47,   76,   26,   50,    6,  203,    8,\n",
      "           2,  781,  701,   47,    7,  101,   30,   39, 3697,  115,    3,\n",
      "           1,    1,    2,  350,    1,  729, 2744,    3,  282, 1116,   43,\n",
      "           1,    1, 4055,    6,   39,  104,    1,    1,    2,    1,    3,\n",
      "           1,   92,   47,   23,   30,  143, 6768, 2141,    1,   44,   32,\n",
      "         709,    1,    2,  275,  106,    7, 2528,    1,    4,  181,  729,\n",
      "          35,   33,    1,  215,    8,    1, 1777,   21,   14,   46, 1870,\n",
      "          25, 5293, 7152, 1777, 6768, 1071,  153, 1573, 2375,   13,   53,\n",
      "        1461, 2528,    7,    1, 5765,  122,  127,   70,   88, 6768, 8660,\n",
      "         135,   14, 2722, 7422,   41,    1, 1841,    3,   43,   57,  349,\n",
      "           6,  163,  733,    4, 3109,  672,  291,   39,  275,    1,  180,\n",
      "           6,   26, 1578, 2978,   15,   39,  335,   55,    1,   39,  469,\n",
      "        5926,    6,  459,  185,    4,    1,    5, 1357,   35,    4,  181,\n",
      "        6023,  639, 1558, 3206,   12, 5926,  139,   26]])>, <tf.Tensor: shape=(), dtype=int32, numpy=1>)\n"
     ]
    }
   ],
   "source": [
    "textBatch, labelBatch = next(iter(rawTrainDs))\n",
    "firstReview, firstLabel = textBatch[0], labelBatch[0]\n",
    "print(\"Vectorized Review\", vectorize_text(firstReview, firstLabel))"
   ]
  },
  {
   "cell_type": "code",
   "execution_count": 102,
   "id": "ddf873e4-712a-4c86-8898-20673627cc02",
   "metadata": {
    "scrolled": true,
    "tags": []
   },
   "outputs": [
    {
     "name": "stdout",
     "output_type": "stream",
     "text": [
      "1287 --->  silent\n",
      "313 --->  and\n",
      "Vocab size: 10000\n"
     ]
    }
   ],
   "source": [
    "print(\"1287 ---> \",vectorizeLayer.get_vocabulary()[1287])\n",
    "print(\"313 ---> \",vectorizeLayer.get_vocabulary()[3])\n",
    "print('Vocab size: {}'.format(len(vectorizeLayer.get_vocabulary())))\n",
    "\n"
   ]
  },
  {
   "cell_type": "code",
   "execution_count": 67,
   "id": "f37bbdf4-74f2-4340-8790-0b29d8aa127b",
   "metadata": {},
   "outputs": [
    {
     "name": "stdout",
     "output_type": "stream",
     "text": [
      "(None,)\n",
      "(None, 1)\n",
      "(None,)\n",
      "(None, 1)\n",
      "(None,)\n",
      "(None, 1)\n"
     ]
    }
   ],
   "source": [
    "trainDs = rawTrainDs.map(vectorize_text)\n",
    "valDs = rawVals.map(vectorize_text)\n",
    "testDs = rawTests.map(vectorize_text)"
   ]
  },
  {
   "cell_type": "code",
   "execution_count": 116,
   "id": "faebdb19-82ff-41b0-aaaf-de28c2ed959d",
   "metadata": {},
   "outputs": [],
   "source": [
    "autoTune = tf.data.AUTOTUNE\n",
    "trainDs = trainDs.cache().prefetch(buffer_size=autoTune)\n",
    "valDs = valDs.cache().prefetch(buffer_size=autoTune)\n",
    "testDs = testDs.cache().prefetch(buffer_size=autoTune)\n",
    "tensorboard_callback = tf.keras.callbacks.TensorBoard(log_dir=\"logs\")"
   ]
  },
  {
   "cell_type": "code",
   "execution_count": 119,
   "id": "69671933-df8e-4023-af5e-5b0bd5142295",
   "metadata": {
    "scrolled": true,
    "tags": []
   },
   "outputs": [
    {
     "name": "stdout",
     "output_type": "stream",
     "text": [
      "Model: \"sequential_18\"\n",
      "_________________________________________________________________\n",
      " Layer (type)                Output Shape              Param #   \n",
      "=================================================================\n",
      " embedding_16 (Embedding)    (None, None, 64)          640000    \n",
      "                                                                 \n",
      " dropout_32 (Dropout)        (None, None, 64)          0         \n",
      "                                                                 \n",
      " global_average_pooling1d_15  (None, 64)               0         \n",
      "  (GlobalAveragePooling1D)                                       \n",
      "                                                                 \n",
      " dropout_33 (Dropout)        (None, 64)                0         \n",
      "                                                                 \n",
      " dense_21 (Dense)            (None, 1)                 65        \n",
      "                                                                 \n",
      "=================================================================\n",
      "Total params: 640,065\n",
      "Trainable params: 640,065\n",
      "Non-trainable params: 0\n",
      "_________________________________________________________________\n",
      "Epoch 1/10\n",
      "625/625 [==============================] - 5s 7ms/step - loss: 0.6351 - binary_accuracy: 0.7076 - val_loss: 0.5420 - val_binary_accuracy: 0.8016\n",
      "Epoch 2/10\n",
      "625/625 [==============================] - 4s 7ms/step - loss: 0.4544 - binary_accuracy: 0.8352 - val_loss: 0.4018 - val_binary_accuracy: 0.8516\n",
      "Epoch 3/10\n",
      "625/625 [==============================] - 4s 7ms/step - loss: 0.3531 - binary_accuracy: 0.8705 - val_loss: 0.3448 - val_binary_accuracy: 0.8658\n",
      "Epoch 4/10\n",
      "625/625 [==============================] - 4s 6ms/step - loss: 0.3018 - binary_accuracy: 0.8878 - val_loss: 0.3171 - val_binary_accuracy: 0.8728\n",
      "Epoch 5/10\n",
      "625/625 [==============================] - 5s 7ms/step - loss: 0.2683 - binary_accuracy: 0.9000 - val_loss: 0.3020 - val_binary_accuracy: 0.8754\n",
      "Epoch 6/10\n",
      "625/625 [==============================] - 4s 6ms/step - loss: 0.2431 - binary_accuracy: 0.9107 - val_loss: 0.2933 - val_binary_accuracy: 0.8784\n",
      "Epoch 7/10\n",
      "625/625 [==============================] - 4s 6ms/step - loss: 0.2229 - binary_accuracy: 0.9188 - val_loss: 0.2884 - val_binary_accuracy: 0.8806\n",
      "Epoch 8/10\n",
      "625/625 [==============================] - 4s 6ms/step - loss: 0.2053 - binary_accuracy: 0.9257 - val_loss: 0.2867 - val_binary_accuracy: 0.8818\n",
      "Epoch 9/10\n",
      "625/625 [==============================] - 4s 6ms/step - loss: 0.1912 - binary_accuracy: 0.9322 - val_loss: 0.2872 - val_binary_accuracy: 0.8820\n",
      "Epoch 10/10\n",
      "625/625 [==============================] - 4s 6ms/step - loss: 0.1780 - binary_accuracy: 0.9366 - val_loss: 0.2885 - val_binary_accuracy: 0.8828\n",
      "782/782 [==============================] - 1s 1ms/step - loss: 0.3132 - binary_accuracy: 0.8729\n",
      "loss:  0.3131716251373291 \n",
      "Accuracy : 0.8729199767112732\n"
     ]
    },
    {
     "data": {
      "image/png": "[encoded data removed]",
      "text/plain": [
       "<Figure size 432x288 with 1 Axes>"
      ]
     },
     "metadata": {
      "needs_background": "light"
     },
     "output_type": "display_data"
    }
   ],
   "source": [
    "embeddingDim = 64\n",
    "model = tf.keras.Sequential([\n",
    "    layers.Embedding(maxFeats, embeddingDim),\n",
    "    layers.Dropout(0.1),\n",
    "    layers.GlobalAveragePooling1D(),\n",
    "    layers.Dropout(0.5),\n",
    "    layers.Dense(1)])\n",
    "model.summary()\n",
    "\n",
    "model.compile(loss=losses.BinaryCrossentropy(from_logits=True),optimizer = 'adam', \n",
    "              metrics=tf.metrics.BinaryAccuracy(threshold=0.0))\n",
    "\n",
    "epochs = 10\n",
    "callback = tf.keras.callbacks.EarlyStopping(monitor='loss', patience=3)\n",
    "history = model.fit(trainDs, validation_data=valDs, epochs=epochs,callbacks=[callback, tensorboard_callback])\n",
    "\n",
    "loss, acc = model.evaluate(testDs)\n",
    "print('loss: ', loss,'\\nAccuracy :', acc)\n",
    "\n",
    "historyDict = history.history\n",
    "historyDict.keys()\n",
    "\n",
    "acc = historyDict['binary_accuracy']\n",
    "val_acc = historyDict['val_binary_accuracy']\n",
    "loss = historyDict['loss']\n",
    "val_loss = historyDict['val_loss']\n",
    "\n",
    "epochs = range(1, len(acc) +1)\n",
    "plt.plot(epochs, loss, 'bo', label='Training loss')\n",
    "plt.plot(epochs, val_loss, 'b', label='Validation Loss')\n",
    "plt.legend()\n",
    "plt.show()"
   ]
  },
  {
   "cell_type": "code",
   "execution_count": 120,
   "id": "00fff138-824a-4ba4-bb6b-1de0efa965f9",
   "metadata": {},
   "outputs": [
    {
     "data": {
      "image/png": "[encoded data removed]",
      "text/plain": [
       "<Figure size 432x288 with 1 Axes>"
      ]
     },
     "metadata": {
      "needs_background": "light"
     },
     "output_type": "display_data"
    }
   ],
   "source": [
    "plt.plot(epochs, acc, 'bo', label='Training acc')\n",
    "plt.plot(epochs, val_acc, 'b', label='Validation acc')\n",
    "plt.title('Training and validation accuracy')\n",
    "plt.xlabel('Epochs')\n",
    "plt.ylabel('Accuracy')\n",
    "plt.legend(loc='lower right')\n",
    "\n",
    "plt.show()"
   ]
  },
  {
   "cell_type": "code",
   "execution_count": 122,
   "id": "2b1c1fee-88b4-49e0-bffa-c6acf6fb9842",
   "metadata": {},
   "outputs": [
    {
     "data": {
      "text/html": [
       "\n",
       "      <iframe id=\"tensorboard-frame-f271b20a6eee1d78\" width=\"100%\" height=\"800\" frameborder=\"0\">\n",
       "      </iframe>\n",
       "      <script>\n",
       "        (function() {\n",
       "          const frame = document.getElementById(\"tensorboard-frame-f271b20a6eee1d78\");\n",
       "          const url = new URL(\"/\", window.location);\n",
       "          const port = 6006;\n",
       "          if (port) {\n",
       "            url.port = port;\n",
       "          }\n",
       "          frame.src = url;\n",
       "        })();\n",
       "      </script>\n",
       "    "
      ],
      "text/plain": [
       "<IPython.core.display.HTML object>"
      ]
     },
     "metadata": {},
     "output_type": "display_data"
    }
   ],
   "source": [
    "%load_ext tensorboard\n",
    "%tensorboard --logdir logs"
   ]
  },
  {
   "cell_type": "code",
   "execution_count": 103,
   "id": "88370828-df13-4507-9850-b65f3500cf59",
   "metadata": {},
   "outputs": [
    {
     "name": "stdout",
     "output_type": "stream",
     "text": [
      "782/782 [==============================] - 3s 4ms/step - loss: 0.3130 - accuracy: 0.8729\n",
      "0.8729199767112732\n"
     ]
    }
   ],
   "source": [
    "exportModel = tf.keras.Sequential([\n",
    "        vectorizeLayer,\n",
    "    model,\n",
    "    layers.Activation('sigmoid')\n",
    "])\n",
    "exportModel.compile(loss=losses.BinaryCrossentropy(from_logits=False), optimizer='adam', metrics=['accuracy'])\n",
    "loss, accuracy = exportModel.evaluate(rawTests)\n",
    "print(accuracy)"
   ]
  },
  {
   "cell_type": "code",
   "execution_count": 112,
   "id": "0b8dacbb-6414-43d5-b4aa-bfd772a0af97",
   "metadata": {},
   "outputs": [
    {
     "name": "stdout",
     "output_type": "stream",
     "text": [
      "1/1 [==============================] - 0s 39ms/step\n"
     ]
    }
   ],
   "source": [
    "examples = [\n",
    "  \"The movie was great!\",\n",
    "  \"The movie was okay.\",\n",
    "  \"The movie was terrible...\",\n",
    "    \"I loved this movie, it was fantastic\",\n",
    "    \"fuck this movie\"\n",
    "]\n",
    "\n",
    "res = exportModel.predict(examples)"
   ]
  },
  {
   "cell_type": "code",
   "execution_count": 113,
   "id": "48b86c56-39d6-4091-ae3a-71ea84df4ef7",
   "metadata": {},
   "outputs": [
    {
     "data": {
      "text/plain": [
       "array([[1.],\n",
       "       [0.],\n",
       "       [0.],\n",
       "       [1.],\n",
       "       [1.]], dtype=float32)"
      ]
     },
     "execution_count": 113,
     "metadata": {},
     "output_type": "execute_result"
    }
   ],
   "source": [
    "res.round()"
   ]
  },
  {
   "cell_type": "code",
   "execution_count": null,
   "id": "60938caf-4c2c-4d46-a255-d3fd5f19b5ae",
   "metadata": {},
   "outputs": [],
   "source": []
  }
 ],
 "metadata": {
  "kernelspec": {
   "display_name": "Python 3 (ipykernel)",
   "language": "python",
   "name": "python3"
  },
  "language_info": {
   "codemirror_mode": {
    "name": "ipython",
    "version": 3
   },
   "file_extension": ".py",
   "mimetype": "text/x-python",
   "name": "python",
   "nbconvert_exporter": "python",
   "pygments_lexer": "ipython3",
   "version": "3.9.13"
  }
 },
 "nbformat": 4,
 "nbformat_minor": 5
}
